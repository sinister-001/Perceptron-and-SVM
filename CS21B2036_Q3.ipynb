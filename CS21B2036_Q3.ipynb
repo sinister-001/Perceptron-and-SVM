{
 "cells": [
  {
   "cell_type": "code",
   "execution_count": 9,
   "id": "ea132d23",
   "metadata": {},
   "outputs": [],
   "source": [
    "import numpy as np\n",
    "import pandas as pd\n",
    "import matplotlib.pyplot as plt\n",
    "import seaborn as sns"
   ]
  },
  {
   "cell_type": "markdown",
   "id": "79ac7755",
   "metadata": {},
   "source": [
    "### Image Processing and Feature Extraction"
   ]
  },
  {
   "cell_type": "code",
   "execution_count": 10,
   "id": "27c940b3",
   "metadata": {},
   "outputs": [],
   "source": [
    "import os\n",
    "import cv2\n",
    "\n",
    "# Define the paths to your image files\n",
    "image_dir = \"C:\\\\Users\\\\vardh\\\\Desktop\\\\5th Sem\\\\PRML\\\\Lab10\\\\Images\"\n",
    "\n",
    "# Initialize lists to store feature vectors and labels\n",
    "X = []  # Feature vectors\n",
    "y = []  # Labels (1 or 2)\n",
    "\n",
    "# Loop through the images and extract features\n",
    "for image_file in os.listdir(image_dir):\n",
    "    if image_file.startswith(\"poly\"):\n",
    "        image_path = os.path.join(image_dir, image_file)\n",
    "        image = cv2.imread(image_path, cv2.IMREAD_GRAYSCALE)  # Load image in grayscale\n",
    "        if int(image_file[4]) <= 7:\n",
    "            label = 1  # Images poly1 to poly7 belong to class 1\n",
    "        else:\n",
    "            label = 2  # Images poly8 to poly14 belong to class 2\n",
    "        # Extract features (x1 and x2)\n",
    "        x1 = np.mean(image)\n",
    "        x2 = np.var(image)\n",
    "        X.append([x1, x2])\n",
    "        y.append(label)\n",
    "\n",
    "# Convert feature vectors and labels to numpy arrays\n",
    "X = np.array(X)\n",
    "y = np.array(y)"
   ]
  },
  {
   "cell_type": "markdown",
   "id": "6009c9b5",
   "metadata": {},
   "source": [
    "### Perceptron Training"
   ]
  },
  {
   "cell_type": "code",
   "execution_count": 11,
   "id": "3538a680",
   "metadata": {},
   "outputs": [],
   "source": [
    "# Initialize weights and bias\n",
    "w = np.zeros(X.shape[1])\n",
    "b = 0\n",
    "\n",
    "# Define the perceptron function\n",
    "def perceptron(x):\n",
    "    return 1 if np.dot(w, x) + b > 0 else 2\n",
    "\n",
    "# Training the perceptron\n",
    "learning_rate = 0.01\n",
    "num_iterations = 1000\n",
    "for _ in range(num_iterations):\n",
    "    for i in range(len(X)):\n",
    "        prediction = perceptron(X[i])\n",
    "        if prediction != y[i]:\n",
    "            if prediction == 1:\n",
    "                w -= learning_rate * X[i]\n",
    "                b -= learning_rate\n",
    "            else:\n",
    "                w += learning_rate * X[i]\n",
    "                b += learning_rate"
   ]
  },
  {
   "cell_type": "code",
   "execution_count": 17,
   "id": "44664227",
   "metadata": {},
   "outputs": [
    {
     "ename": "MemoryError",
     "evalue": "Unable to allocate 58.3 GiB for an array with shape (315221, 24817) and data type float64",
     "output_type": "error",
     "traceback": [
      "\u001b[1;31m---------------------------------------------------------------------------\u001b[0m",
      "\u001b[1;31mMemoryError\u001b[0m                               Traceback (most recent call last)",
      "Input \u001b[1;32mIn [17]\u001b[0m, in \u001b[0;36m<cell line: 21>\u001b[1;34m()\u001b[0m\n\u001b[0;32m     18\u001b[0m     plt\u001b[38;5;241m.\u001b[39mshow()\n\u001b[0;32m     20\u001b[0m \u001b[38;5;66;03m# Plot the decision boundary\u001b[39;00m\n\u001b[1;32m---> 21\u001b[0m \u001b[43mplot_decision_boundary\u001b[49m\u001b[43m(\u001b[49m\u001b[43mX\u001b[49m\u001b[43m,\u001b[49m\u001b[43m \u001b[49m\u001b[43my\u001b[49m\u001b[43m,\u001b[49m\u001b[43m \u001b[49m\u001b[43mw\u001b[49m\u001b[43m,\u001b[49m\u001b[43m \u001b[49m\u001b[43mb\u001b[49m\u001b[43m)\u001b[49m\n",
      "Input \u001b[1;32mIn [17]\u001b[0m, in \u001b[0;36mplot_decision_boundary\u001b[1;34m(X, y, w, b)\u001b[0m\n\u001b[0;32m      6\u001b[0m x1_min, x1_max \u001b[38;5;241m=\u001b[39m X[:, \u001b[38;5;241m0\u001b[39m]\u001b[38;5;241m.\u001b[39mmin() \u001b[38;5;241m-\u001b[39m \u001b[38;5;241m1\u001b[39m, X[:, \u001b[38;5;241m0\u001b[39m]\u001b[38;5;241m.\u001b[39mmax() \u001b[38;5;241m+\u001b[39m \u001b[38;5;241m1\u001b[39m\n\u001b[0;32m      7\u001b[0m x2_min, x2_max \u001b[38;5;241m=\u001b[39m X[:, \u001b[38;5;241m1\u001b[39m]\u001b[38;5;241m.\u001b[39mmin() \u001b[38;5;241m-\u001b[39m \u001b[38;5;241m1\u001b[39m, X[:, \u001b[38;5;241m1\u001b[39m]\u001b[38;5;241m.\u001b[39mmax() \u001b[38;5;241m+\u001b[39m \u001b[38;5;241m1\u001b[39m\n\u001b[1;32m----> 8\u001b[0m xx1, xx2 \u001b[38;5;241m=\u001b[39m \u001b[43mnp\u001b[49m\u001b[38;5;241;43m.\u001b[39;49m\u001b[43mmeshgrid\u001b[49m\u001b[43m(\u001b[49m\u001b[43mnp\u001b[49m\u001b[38;5;241;43m.\u001b[39;49m\u001b[43marange\u001b[49m\u001b[43m(\u001b[49m\u001b[43mx1_min\u001b[49m\u001b[43m,\u001b[49m\u001b[43m \u001b[49m\u001b[43mx1_max\u001b[49m\u001b[43m,\u001b[49m\u001b[43m \u001b[49m\u001b[38;5;241;43m0.01\u001b[39;49m\u001b[43m)\u001b[49m\u001b[43m,\u001b[49m\u001b[43m \u001b[49m\u001b[43mnp\u001b[49m\u001b[38;5;241;43m.\u001b[39;49m\u001b[43marange\u001b[49m\u001b[43m(\u001b[49m\u001b[43mx2_min\u001b[49m\u001b[43m,\u001b[49m\u001b[43m \u001b[49m\u001b[43mx2_max\u001b[49m\u001b[43m,\u001b[49m\u001b[43m \u001b[49m\u001b[38;5;241;43m0.01\u001b[39;49m\u001b[43m)\u001b[49m\u001b[43m)\u001b[49m\n\u001b[0;32m      9\u001b[0m Z \u001b[38;5;241m=\u001b[39m np\u001b[38;5;241m.\u001b[39marray([perceptron([x1, x2]) \u001b[38;5;28;01mfor\u001b[39;00m x1, x2 \u001b[38;5;129;01min\u001b[39;00m np\u001b[38;5;241m.\u001b[39mc_[xx1\u001b[38;5;241m.\u001b[39mravel(), xx2\u001b[38;5;241m.\u001b[39mravel()]])\n\u001b[0;32m     11\u001b[0m Z \u001b[38;5;241m=\u001b[39m Z\u001b[38;5;241m.\u001b[39mreshape(xx1\u001b[38;5;241m.\u001b[39mshape)\n",
      "File \u001b[1;32m~\\anaconda3\\lib\\site-packages\\numpy\\lib\\function_base.py:5163\u001b[0m, in \u001b[0;36mmeshgrid\u001b[1;34m(copy, sparse, indexing, *xi)\u001b[0m\n\u001b[0;32m   5160\u001b[0m     output \u001b[38;5;241m=\u001b[39m np\u001b[38;5;241m.\u001b[39mbroadcast_arrays(\u001b[38;5;241m*\u001b[39moutput, subok\u001b[38;5;241m=\u001b[39m\u001b[38;5;28;01mTrue\u001b[39;00m)\n\u001b[0;32m   5162\u001b[0m \u001b[38;5;28;01mif\u001b[39;00m copy:\n\u001b[1;32m-> 5163\u001b[0m     output \u001b[38;5;241m=\u001b[39m [x\u001b[38;5;241m.\u001b[39mcopy() \u001b[38;5;28;01mfor\u001b[39;00m x \u001b[38;5;129;01min\u001b[39;00m output]\n\u001b[0;32m   5165\u001b[0m \u001b[38;5;28;01mreturn\u001b[39;00m output\n",
      "File \u001b[1;32m~\\anaconda3\\lib\\site-packages\\numpy\\lib\\function_base.py:5163\u001b[0m, in \u001b[0;36m<listcomp>\u001b[1;34m(.0)\u001b[0m\n\u001b[0;32m   5160\u001b[0m     output \u001b[38;5;241m=\u001b[39m np\u001b[38;5;241m.\u001b[39mbroadcast_arrays(\u001b[38;5;241m*\u001b[39moutput, subok\u001b[38;5;241m=\u001b[39m\u001b[38;5;28;01mTrue\u001b[39;00m)\n\u001b[0;32m   5162\u001b[0m \u001b[38;5;28;01mif\u001b[39;00m copy:\n\u001b[1;32m-> 5163\u001b[0m     output \u001b[38;5;241m=\u001b[39m [\u001b[43mx\u001b[49m\u001b[38;5;241;43m.\u001b[39;49m\u001b[43mcopy\u001b[49m\u001b[43m(\u001b[49m\u001b[43m)\u001b[49m \u001b[38;5;28;01mfor\u001b[39;00m x \u001b[38;5;129;01min\u001b[39;00m output]\n\u001b[0;32m   5165\u001b[0m \u001b[38;5;28;01mreturn\u001b[39;00m output\n",
      "\u001b[1;31mMemoryError\u001b[0m: Unable to allocate 58.3 GiB for an array with shape (315221, 24817) and data type float64"
     ]
    }
   ],
   "source": [
    "import numpy as np\n",
    "import matplotlib.pyplot as plt\n",
    "\n",
    "# Define a function to plot the decision boundary\n",
    "def plot_decision_boundary(X, y, w, b):\n",
    "    x1_min, x1_max = X[:, 0].min() - 1, X[:, 0].max() + 1\n",
    "    x2_min, x2_max = X[:, 1].min() - 1, X[:, 1].max() + 1\n",
    "    xx1, xx2 = np.meshgrid(np.arange(x1_min, x1_max, 0.01), np.arange(x2_min, x2_max, 0.01))\n",
    "    Z = np.array([perceptron([x1, x2]) for x1, x2 in np.c_[xx1.ravel(), xx2.ravel()]])\n",
    "\n",
    "    Z = Z.reshape(xx1.shape)\n",
    "    plt.contourf(xx1, xx2, Z, alpha=0.4)\n",
    "    plt.scatter(X[y == 1][:, 0], X[y == 1][:, 1], label='Class 1', marker='o')\n",
    "    plt.scatter(X[y == 2][:, 0], X[y == 2][:, 1], label='Class 2', marker='x')\n",
    "    plt.xlabel('x1')\n",
    "    plt.ylabel('x2')\n",
    "    plt.legend()\n",
    "    plt.show()\n",
    "\n",
    "# Plot the decision boundary\n",
    "plot_decision_boundary(X, y, w, b)"
   ]
  },
  {
   "cell_type": "code",
   "execution_count": null,
   "id": "77e6590c",
   "metadata": {},
   "outputs": [],
   "source": [
    "import numpy as np\n",
    "import matplotlib.pyplot as plt\n",
    "\n",
    "# Define a function to plot the decision boundary\n",
    "def plot_decision_boundary(X, y, w, b):\n",
    "    x1_min, x1_max = X[:, 0].min() - 1, X[:, 0].max() + 1\n",
    "    x2_min, x2_max = X[:, 1].min() - 1, X[:, 1].max() + 1\n",
    "\n",
    "    # Reduce the step size for creating the mesh grid\n",
    "    step = 0.1\n",
    "    xx1, xx2 = np.meshgrid(np.arange(x1_min, x1_max, step), np.arange(x2_min, x2_max, step))\n",
    "    \n",
    "    Z = np.array([perceptron([x1, x2]) for x1, x2 in np.c_[xx1.ravel(), xx2.ravel()]])\n",
    "\n",
    "    Z = Z.reshape(xx1.shape)\n",
    "    plt.contourf(xx1, xx2, Z, alpha=0.4)\n",
    "    plt.scatter(X[y == 1][:, 0], X[y == 1][:, 1], label='Class 1', marker='o')\n",
    "    plt.scatter(X[y == 2][:, 0], X[y == 2][:, 1], label='Class 2', marker='x')\n",
    "    plt.xlabel('x1')\n",
    "    plt.ylabel('x2')\n",
    "    plt.legend()\n",
    "    plt.show()\n",
    "\n",
    "# Plot the decision boundary\n",
    "plot_decision_boundary(X, y, w, b)"
   ]
  },
  {
   "cell_type": "code",
   "execution_count": 13,
   "id": "c7e3eb12",
   "metadata": {},
   "outputs": [
    {
     "ename": "KeyboardInterrupt",
     "evalue": "",
     "output_type": "error",
     "traceback": [
      "\u001b[1;31m---------------------------------------------------------------------------\u001b[0m",
      "\u001b[1;31mKeyboardInterrupt\u001b[0m                         Traceback (most recent call last)",
      "Input \u001b[1;32mIn [13]\u001b[0m, in \u001b[0;36m<cell line: 7>\u001b[1;34m()\u001b[0m\n\u001b[0;32m      4\u001b[0m xx, yy \u001b[38;5;241m=\u001b[39m np\u001b[38;5;241m.\u001b[39mmeshgrid(np\u001b[38;5;241m.\u001b[39marange(x_min, x_max, \u001b[38;5;241m0.1\u001b[39m), np\u001b[38;5;241m.\u001b[39marange(y_min, y_max, \u001b[38;5;241m0.1\u001b[39m))  \u001b[38;5;66;03m# Reduced resolution\u001b[39;00m\n\u001b[0;32m      6\u001b[0m \u001b[38;5;66;03m# Compute the decision boundary\u001b[39;00m\n\u001b[1;32m----> 7\u001b[0m Z \u001b[38;5;241m=\u001b[39m np\u001b[38;5;241m.\u001b[39marray([perceptron([x1, x2]) \u001b[38;5;28;01mfor\u001b[39;00m x1, x2 \u001b[38;5;129;01min\u001b[39;00m np\u001b[38;5;241m.\u001b[39mc_[xx\u001b[38;5;241m.\u001b[39mravel(), yy\u001b[38;5;241m.\u001b[39mravel()]])\n\u001b[0;32m      8\u001b[0m Z \u001b[38;5;241m=\u001b[39m Z\u001b[38;5;241m.\u001b[39mreshape(xx\u001b[38;5;241m.\u001b[39mshape)\n\u001b[0;32m     10\u001b[0m \u001b[38;5;66;03m# Plot the decision boundary\u001b[39;00m\n",
      "Input \u001b[1;32mIn [13]\u001b[0m, in \u001b[0;36m<listcomp>\u001b[1;34m(.0)\u001b[0m\n\u001b[0;32m      4\u001b[0m xx, yy \u001b[38;5;241m=\u001b[39m np\u001b[38;5;241m.\u001b[39mmeshgrid(np\u001b[38;5;241m.\u001b[39marange(x_min, x_max, \u001b[38;5;241m0.1\u001b[39m), np\u001b[38;5;241m.\u001b[39marange(y_min, y_max, \u001b[38;5;241m0.1\u001b[39m))  \u001b[38;5;66;03m# Reduced resolution\u001b[39;00m\n\u001b[0;32m      6\u001b[0m \u001b[38;5;66;03m# Compute the decision boundary\u001b[39;00m\n\u001b[1;32m----> 7\u001b[0m Z \u001b[38;5;241m=\u001b[39m np\u001b[38;5;241m.\u001b[39marray([\u001b[43mperceptron\u001b[49m\u001b[43m(\u001b[49m\u001b[43m[\u001b[49m\u001b[43mx1\u001b[49m\u001b[43m,\u001b[49m\u001b[43m \u001b[49m\u001b[43mx2\u001b[49m\u001b[43m]\u001b[49m\u001b[43m)\u001b[49m \u001b[38;5;28;01mfor\u001b[39;00m x1, x2 \u001b[38;5;129;01min\u001b[39;00m np\u001b[38;5;241m.\u001b[39mc_[xx\u001b[38;5;241m.\u001b[39mravel(), yy\u001b[38;5;241m.\u001b[39mravel()]])\n\u001b[0;32m      8\u001b[0m Z \u001b[38;5;241m=\u001b[39m Z\u001b[38;5;241m.\u001b[39mreshape(xx\u001b[38;5;241m.\u001b[39mshape)\n\u001b[0;32m     10\u001b[0m \u001b[38;5;66;03m# Plot the decision boundary\u001b[39;00m\n",
      "Input \u001b[1;32mIn [11]\u001b[0m, in \u001b[0;36mperceptron\u001b[1;34m(x)\u001b[0m\n\u001b[0;32m      6\u001b[0m \u001b[38;5;28;01mdef\u001b[39;00m \u001b[38;5;21mperceptron\u001b[39m(x):\n\u001b[1;32m----> 7\u001b[0m     \u001b[38;5;28;01mreturn\u001b[39;00m \u001b[38;5;241m1\u001b[39m \u001b[38;5;28;01mif\u001b[39;00m \u001b[43mnp\u001b[49m\u001b[38;5;241;43m.\u001b[39;49m\u001b[43mdot\u001b[49m\u001b[43m(\u001b[49m\u001b[43mw\u001b[49m\u001b[43m,\u001b[49m\u001b[43m \u001b[49m\u001b[43mx\u001b[49m\u001b[43m)\u001b[49m \u001b[38;5;241m+\u001b[39m b \u001b[38;5;241m>\u001b[39m \u001b[38;5;241m0\u001b[39m \u001b[38;5;28;01melse\u001b[39;00m \u001b[38;5;241m2\u001b[39m\n",
      "\u001b[1;31mKeyboardInterrupt\u001b[0m: "
     ]
    }
   ],
   "source": [
    "# Create a meshgrid for the feature space with lower resolution\n",
    "x_min, x_max = X[:, 0].min() - 1, X[:, 0].max() + 1\n",
    "y_min, y_max = X[:, 1].min() - 1, X[:, 1].max() + 1\n",
    "xx, yy = np.meshgrid(np.arange(x_min, x_max, 0.1), np.arange(y_min, y_max, 0.1))  # Reduced resolution\n",
    "\n",
    "# Compute the decision boundary\n",
    "Z = np.array([perceptron([x1, x2]) for x1, x2 in np.c_[xx.ravel(), yy.ravel()]])\n",
    "Z = Z.reshape(xx.shape)\n",
    "\n",
    "# Plot the decision boundary\n",
    "plt.contourf(xx, yy, Z, cmap=plt.cm.coolwarm, alpha=0.8)\n",
    "plt.scatter(X[:, 0], X[:, 1], c=y, cmap=plt.cm.coolwarm)\n",
    "plt.xlabel('Feature 1 (x1)')\n",
    "plt.ylabel('Feature 2 (x2)')\n",
    "plt.title('Perceptron Decision Boundary')\n",
    "plt.show()"
   ]
  },
  {
   "cell_type": "markdown",
   "id": "56d65120",
   "metadata": {},
   "source": [
    "### SVM Modelling\n",
    "\n",
    "#### Generate Feature Vectors"
   ]
  },
  {
   "cell_type": "code",
   "execution_count": 4,
   "id": "2bdef159",
   "metadata": {},
   "outputs": [],
   "source": [
    "from sklearn.utils import shuffle\n",
    "\n",
    "# Define paths\n",
    "image_dir = \"C:\\\\Users\\\\vardh\\\\Desktop\\\\5th Sem\\\\PRML\\\\Lab10\\\\Images\"\n",
    "class1_images = range(1, 8)\n",
    "class2_images = range(8, 15)\n",
    "\n",
    "# Initialize lists to store feature vectors and labels\n",
    "X = []  # Feature vectors\n",
    "y = []  # Labels (1 or 2)\n",
    "\n",
    "# Loop through the images and extract features\n",
    "for i in class1_images:\n",
    "    image_path = os.path.join(image_dir, f\"poly{i}.png\")\n",
    "    image = cv2.imread(image_path, cv2.IMREAD_GRAYSCALE)\n",
    "    x1 = np.mean(image)  # Calculate x1 (average pixel intensity)\n",
    "    x2 = np.var(image)   # Calculate x2 (variance of pixel intensity)\n",
    "    X.append([x1, x2])\n",
    "    y.append(1)  # Class 1\n",
    "\n",
    "for i in class2_images:\n",
    "    image_path = os.path.join(image_dir, f\"poly{i}.png\")\n",
    "    image = cv2.imread(image_path, cv2.IMREAD_GRAYSCALE)\n",
    "    x1 = np.mean(image)  # Calculate x1 (average pixel intensity)\n",
    "    x2 = np.var(image)   # Calculate x2 (variance of pixel intensity)\n",
    "    X.append([x1, x2])\n",
    "    y.append(2)  # Class 2\n",
    "\n",
    "X = np.array(X)\n",
    "y = np.array(y)\n",
    "\n",
    "# Shuffle the data\n",
    "X, y = shuffle(X, y, random_state=42)"
   ]
  },
  {
   "cell_type": "markdown",
   "id": "b8a8468f",
   "metadata": {},
   "source": [
    "#### Training SVM"
   ]
  },
  {
   "cell_type": "code",
   "execution_count": 5,
   "id": "97e1ca6f",
   "metadata": {},
   "outputs": [],
   "source": [
    "# Define the SVM parameters\n",
    "learning_rate = 0.01\n",
    "C = 1.0  # Regularization parameter\n",
    "\n",
    "# Initialize weights and bias\n",
    "w = np.zeros(X.shape[1])\n",
    "b = 0\n",
    "\n",
    "# Define the hinge loss function\n",
    "def hinge_loss(w, b, X, y):\n",
    "    loss = 1 - y * (np.dot(X, w) + b)\n",
    "    return max(0, loss)\n",
    "\n",
    "# Training the SVM using stochastic gradient descent\n",
    "num_iterations = 1000\n",
    "for _ in range(num_iterations):\n",
    "    for i in range(len(X)):\n",
    "        if y[i] * (np.dot(X[i], w) + b) >= 1:\n",
    "            w -= learning_rate * (2 * 1 / num_iterations * w)\n",
    "        else:\n",
    "            w -= learning_rate * (2 * 1 / num_iterations * w - np.dot(X[i], y[i]))\n",
    "            b -= learning_rate * y[i]"
   ]
  },
  {
   "cell_type": "markdown",
   "id": "1179bec8",
   "metadata": {},
   "source": [
    "#### Plot the Decision Boundary"
   ]
  },
  {
   "cell_type": "code",
   "execution_count": 6,
   "id": "80ab661c",
   "metadata": {},
   "outputs": [
    {
     "data": {
      "image/png": "[encoded data removed]",
      "text/plain": [
       "<Figure size 432x288 with 1 Axes>"
      ]
     },
     "metadata": {
      "needs_background": "light"
     },
     "output_type": "display_data"
    }
   ],
   "source": [
    "import matplotlib.pyplot as plt\n",
    "\n",
    "# Create a meshgrid for the entire feature space\n",
    "xx, yy = np.meshgrid(np.linspace(X[:, 0].min() - 1, X[:, 0].max() + 1, 100),\n",
    "                     np.linspace(X[:, 1].min() - 1, X[:, 1].max() + 1, 100))\n",
    "\n",
    "# Predict the class labels for all points in the meshgrid\n",
    "Z = np.dot(np.c_[xx.ravel(), yy.ravel()], w) + b\n",
    "Z = Z.reshape(xx.shape)\n",
    "\n",
    "# Plot the decision boundary\n",
    "plt.contourf(xx, yy, Z, levels=[-1, 0, 1], colors=('blue', 'white', 'red'), alpha=0.4)\n",
    "plt.scatter(X[y == 1][:, 0], X[y == 1][:, 1], c='blue', label='Class 1')\n",
    "plt.scatter(X[y == 2][:, 0], X[y == 2][:, 1], c='red', label='Class 2')\n",
    "plt.xlabel('x1')\n",
    "plt.ylabel('x2')\n",
    "plt.title('SVM Decision Boundary')\n",
    "plt.legend()\n",
    "plt.show()"
   ]
  }
 ],
 "metadata": {
  "kernelspec": {
   "display_name": "Python 3 (ipykernel)",
   "language": "python",
   "name": "python3"
  },
  "language_info": {
   "codemirror_mode": {
    "name": "ipython",
    "version": 3
   },
   "file_extension": ".py",
   "mimetype": "text/x-python",
   "name": "python",
   "nbconvert_exporter": "python",
   "pygments_lexer": "ipython3",
   "version": "3.9.12"
  }
 },
 "nbformat": 4,
 "nbformat_minor": 5
}
